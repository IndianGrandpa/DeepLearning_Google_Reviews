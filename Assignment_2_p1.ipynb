{
 "cells": [
  {
   "cell_type": "markdown",
   "metadata": {},
   "source": [
    "<table class=\"table table-bordered\">\n",
    "    <tr>\n",
    "        <th style=\"text-align:center; width:25%\"><img src='https://www.np.edu.sg/PublishingImages/Pages/default/odp/ICT.jpg' style=\"width: 250px; height: 125px; \"></th>\n",
    "        <th style=\"text-align:center;\"><h1>Deep Learning</h1><h2>Assignment 2 (Problem 1) - Sentiment Analysis Model  (Group)</h2><h3>AY2022/23 Semester</h3></th>\n",
    "    </tr>\n",
    "</table>"
   ]
  },
  {
   "cell_type": "code",
   "execution_count": 308,
   "metadata": {},
   "outputs": [],
   "source": [
    "# Import the Required Packages\n",
    "from tensorflow.keras.models import Sequential\n",
    "from tensorflow.keras.layers import Embedding, SimpleRNN\n",
    "from tensorflow.keras import preprocessing\n",
    "import pandas as pd\n",
    "import matplotlib.pyplot as plt "
   ]
  },
  {
   "cell_type": "markdown",
   "metadata": {},
   "source": [
    "## Step 1 – Data Loading and Processing (Group)"
   ]
  },
  {
   "cell_type": "markdown",
   "metadata": {},
   "source": [
    "### 1.1 Data Loading"
   ]
  },
  {
   "cell_type": "code",
   "execution_count": 80,
   "metadata": {},
   "outputs": [],
   "source": [
    "reviews=pd.read_csv(\"whatsapp_reviews.csv\")"
   ]
  },
  {
   "cell_type": "code",
   "execution_count": 81,
   "metadata": {},
   "outputs": [
    {
     "data": {
      "text/plain": [
       "reviewId                149400\n",
       "userName                149400\n",
       "userImage               149400\n",
       "content                 149391\n",
       "score                   149400\n",
       "thumbsUpCount           149400\n",
       "reviewCreatedVersion    117024\n",
       "at                      149400\n",
       "replyContent                 0\n",
       "repliedAt                    0\n",
       "dtype: int64"
      ]
     },
     "execution_count": 81,
     "metadata": {},
     "output_type": "execute_result"
    }
   ],
   "source": [
    "reviews.count()"
   ]
  },
  {
   "cell_type": "markdown",
   "metadata": {},
   "source": [
    "### 1.2 Data Processing\n"
   ]
  },
  {
   "cell_type": "markdown",
   "metadata": {},
   "source": [
    "Data pre-processing is multi-step process that aims to prepare the data so that it could be fit into a model. For RNN deep learning models there are few specification on how the data should be molded into. First off the input data, the text , need to be need to be at least a 2d array. The process of converting text and converting them into 2-d array is called tokenization.Tokenization involves splitting sentences into individual word and assigning a  unique number for each unique word. The next step in called padding, which aims to even out the length of sentences by either truncating them or padding them. There are also other steps such as embedding and punctuation removals which can help to improve model performance."
   ]
  },
  {
   "cell_type": "code",
   "execution_count": 321,
   "metadata": {},
   "outputs": [
    {
     "data": {
      "text/plain": [
       "array([[  100,   122,   196, ...,     0,     0,     0],\n",
       "       [   79,  7376,   418, ...,     0,     0,     0],\n",
       "       [ 7384,    77,    88, ...,     0,     0,     0],\n",
       "       ...,\n",
       "       [23618,   672, 23619, ...,     0,     0,     0],\n",
       "       [23620,     9,     0, ...,     0,     0,     0],\n",
       "       [    5,     0,     0, ...,     0,     0,     0]])"
      ]
     },
     "execution_count": 321,
     "metadata": {},
     "output_type": "execute_result"
    }
   ],
   "source": [
    "x_train"
   ]
  },
  {
   "cell_type": "code",
   "execution_count": 310,
   "metadata": {},
   "outputs": [],
   "source": [
    "def satrification(df,column):\n",
    "    value_count=df[column].value_counts().sort_values()\n",
    "    \n",
    "    value=value_count.values[0]\n",
    "    \n",
    "    df_satrified= df[df[column]==value_count.index[0]]\n",
    "   \n",
    "    \n",
    "    for i in value_count.index[1:]:\n",
    "        df_sampled = df[df[column]==i].sample(n=value, random_state=2).copy()\n",
    "        \n",
    "        df_satrified=pd.concat([df_satrified,df_sampled],axis=0)\n",
    "    \n",
    "    return df_satrified"
   ]
  },
  {
   "cell_type": "code",
   "execution_count": 311,
   "metadata": {},
   "outputs": [],
   "source": [
    "import re\n",
    "\n",
    "\n",
    "\n",
    "\n",
    "\n",
    "def pre_process(text,remove_punc=True):\n",
    "    text=str(text)\n",
    "    text=text.lower()\n",
    "    if remove_punc==True:\n",
    "        text=re.sub(\"</?.*?>\",\" <> \",text)\n",
    "    \n",
    "    text=re.sub(\"(\\\\d|\\\\W|_)+\",\" \",text)\n",
    "    \n",
    "    return text\n",
    "reviews_satr=satrification(reviews,\"score\")\n",
    "reviews_satr[\"transform_content\"]=reviews_satr[\"content\"].apply(lambda x:pre_process(x,False))"
   ]
  },
  {
   "cell_type": "code",
   "execution_count": 312,
   "metadata": {},
   "outputs": [],
   "source": [
    "#max length words and max lenth need to be consistent\n",
    "def transform_for_rnn(max_words,max_len,padding_style):    \n",
    "   \n",
    "    #max length need to consistent with embedders also\n",
    "    tokenizer = Tokenizer(num_words=max_words) # num_words: the maximum number of words to keep, based on word frequency.\n",
    "    tokenizer.fit_on_texts(reviews_satr[\"transform_content\"])\n",
    "    sequences = tokenizer.texts_to_sequences(reviews_satr[\"transform_content\"])\n",
    "\n",
    "    reviews_padded = pad_sequences(sequences, maxlen=max_len, padding=padding_style)\n",
    "    return (reviews_padded,np.array(reviews_satr[\"score\"]))\n",
    "            \n",
    "x,y=transform_for_rnn(10000,50,\"post\")"
   ]
  },
  {
   "cell_type": "markdown",
   "metadata": {},
   "source": [
    "For the y data there is a need to one hot the data so that it could used for multi label classification model. One hot is the process of creating n number of binary column for n number of categories  and representing the categories with a series of 0s and 1s.For example if there is an array of [1,2] with the assumption there are five different categories , one hot would convert it to [[1,0,0,0,0][0,1,0,0,0]]"
   ]
  },
  {
   "cell_type": "code",
   "execution_count": 313,
   "metadata": {
    "scrolled": true
   },
   "outputs": [],
   "source": [
    "from sklearn.preprocessing import OneHotEncoder\n",
    "import numpy as np\n",
    "\n",
    "# Array to be transformed\n",
    "array = y\n",
    "\n",
    "# Initialize the OneHotEncoder\n",
    "encoder = OneHotEncoder()\n",
    "\n",
    "# Fit and transform the array\n",
    "one_hot = encoder.fit_transform(array.reshape(-1, 1))\n",
    "\n",
    "y = one_hot.toarray()"
   ]
  },
  {
   "cell_type": "markdown",
   "metadata": {},
   "source": [
    "### 1.3 Data Sampling"
   ]
  },
  {
   "cell_type": "markdown",
   "metadata": {},
   "source": [
    "The data was split into the training, validation and testing data by the  ratio of 6:3:1. The ratio was chosen as to provide the largest number of training data, which is important for the model, while making sure there is sufficient data for testing and validation. Validation data contribute to the training phase much more than testing hence validation was given the bigger share of the data."
   ]
  },
  {
   "cell_type": "code",
   "execution_count": 314,
   "metadata": {},
   "outputs": [],
   "source": [
    "# Split the X & y into train and test sets\n",
    "from sklearn.model_selection import train_test_split\n",
    "X_train_val, X_test, y_train_val, y_test = train_test_split(x, y, test_size=0.1,stratify=y,random_state=42)\n",
    "X_train, X_val,y_train, y_val = train_test_split(X_train_val,y_train_val, test_size=1/3,random_state=42)"
   ]
  },
  {
   "cell_type": "code",
   "execution_count": 315,
   "metadata": {},
   "outputs": [
    {
     "data": {
      "text/plain": [
       "100"
      ]
     },
     "execution_count": 315,
     "metadata": {},
     "output_type": "execute_result"
    }
   ],
   "source": [
    "x[0][0]"
   ]
  },
  {
   "cell_type": "code",
   "execution_count": 316,
   "metadata": {
    "scrolled": false
   },
   "outputs": [
    {
     "data": {
      "text/plain": [
       "1191.0"
      ]
     },
     "execution_count": 316,
     "metadata": {},
     "output_type": "execute_result"
    }
   ],
   "source": [
    "X_train.shape[0]/18"
   ]
  },
  {
   "cell_type": "code",
   "execution_count": 317,
   "metadata": {},
   "outputs": [
    {
     "data": {
      "text/plain": [
       "35744"
      ]
     },
     "execution_count": 317,
     "metadata": {},
     "output_type": "execute_result"
    }
   ],
   "source": [
    "1117*32"
   ]
  },
  {
   "cell_type": "markdown",
   "metadata": {},
   "source": [
    "## Step 2 – Develop a Sentiment Analysis Model (Individual: One Model Per Student)"
   ]
  },
  {
   "cell_type": "code",
   "execution_count": 318,
   "metadata": {},
   "outputs": [],
   "source": [
    "def chart(history):\n",
    " \n",
    "  acc = history.history['acc']\n",
    "  val_acc = history.history['val_acc']\n",
    "  loss = history.history['loss']\n",
    "  val_loss = history.history['val_loss']\n",
    "\n",
    "\n",
    "  epochs = range(len(acc))\n",
    "\n",
    "  plt.plot(epochs, acc, 'bo', label='Training acc')\n",
    "  plt.plot(epochs, val_acc, 'b', label='Validation acc')\n",
    "  plt.title('Training and validation accuracy')\n",
    "  plt.legend()\n",
    "\n",
    "  plt.figure()\n",
    "\n",
    "  plt.plot(epochs, loss, 'bo', label='Training loss')\n",
    "  plt.plot(epochs, val_loss, 'b', label='Validation loss')\n",
    "  plt.title('Training and validation loss')\n",
    "\n",
    "  plt.legend()\n",
    "\n",
    "  plt.show()"
   ]
  },
  {
   "cell_type": "markdown",
   "metadata": {},
   "source": [
    "### Model #1  (Student Name: Vibu Vignesh)"
   ]
  },
  {
   "cell_type": "markdown",
   "metadata": {},
   "source": [
    "## Baseline Model"
   ]
  },
  {
   "cell_type": "code",
   "execution_count": 319,
   "metadata": {},
   "outputs": [
    {
     "name": "stdout",
     "output_type": "stream",
     "text": [
      "Epoch 1/30\n",
      "1191/1191 [==============================] - 12s 9ms/step - loss: 1.5916 - acc: 0.2439 - val_loss: 1.5639 - val_acc: 0.2718\n",
      "Epoch 2/30\n",
      "1191/1191 [==============================] - 11s 9ms/step - loss: 1.5499 - acc: 0.2806 - val_loss: 1.5515 - val_acc: 0.2779\n",
      "Epoch 3/30\n",
      "1191/1191 [==============================] - 11s 9ms/step - loss: 1.5169 - acc: 0.3090 - val_loss: 1.5577 - val_acc: 0.2844\n",
      "Epoch 4/30\n",
      "1191/1191 [==============================] - 11s 9ms/step - loss: 1.4812 - acc: 0.3356 - val_loss: 1.5652 - val_acc: 0.2928\n",
      "Epoch 5/30\n",
      "1191/1191 [==============================] - 12s 10ms/step - loss: 1.4441 - acc: 0.3620 - val_loss: 1.6028 - val_acc: 0.2812\n",
      "Epoch 6/30\n",
      "1191/1191 [==============================] - 12s 10ms/step - loss: 1.4054 - acc: 0.3925 - val_loss: 1.6214 - val_acc: 0.2783\n",
      "Epoch 7/30\n",
      "1191/1191 [==============================] - 11s 10ms/step - loss: 1.3670 - acc: 0.4104 - val_loss: 1.6904 - val_acc: 0.2800\n",
      "Epoch 8/30\n",
      "1191/1191 [==============================] - 11s 9ms/step - loss: 1.3326 - acc: 0.4329 - val_loss: 1.6892 - val_acc: 0.2766\n",
      "Epoch 9/30\n",
      "1191/1191 [==============================] - 11s 9ms/step - loss: 1.2973 - acc: 0.4527 - val_loss: 1.6687 - val_acc: 0.2806\n",
      "Epoch 10/30\n",
      "1191/1191 [==============================] - 11s 9ms/step - loss: 1.2720 - acc: 0.4673 - val_loss: 1.6988 - val_acc: 0.2662\n",
      "Epoch 11/30\n",
      "1191/1191 [==============================] - 11s 9ms/step - loss: 1.2449 - acc: 0.4798 - val_loss: 1.8048 - val_acc: 0.2725\n",
      "Epoch 12/30\n",
      "1191/1191 [==============================] - 11s 9ms/step - loss: 1.2211 - acc: 0.4920 - val_loss: 1.7760 - val_acc: 0.2812\n",
      "Epoch 13/30\n",
      "1191/1191 [==============================] - 11s 10ms/step - loss: 1.2011 - acc: 0.5043 - val_loss: 1.8013 - val_acc: 0.2744\n",
      "Epoch 14/30\n",
      "1191/1191 [==============================] - 11s 10ms/step - loss: 1.1850 - acc: 0.5091 - val_loss: 1.7037 - val_acc: 0.2757\n",
      "Epoch 15/30\n",
      "1191/1191 [==============================] - 11s 10ms/step - loss: 1.1658 - acc: 0.5176 - val_loss: 1.7449 - val_acc: 0.2740\n",
      "Epoch 16/30\n",
      "1191/1191 [==============================] - 11s 9ms/step - loss: 1.1484 - acc: 0.5232 - val_loss: 1.8597 - val_acc: 0.2694\n",
      "Epoch 17/30\n",
      "1191/1191 [==============================] - 11s 10ms/step - loss: 1.1390 - acc: 0.5301 - val_loss: 1.8245 - val_acc: 0.2781\n",
      "Epoch 18/30\n",
      "1191/1191 [==============================] - 15s 13ms/step - loss: 1.1225 - acc: 0.5385 - val_loss: 1.8475 - val_acc: 0.2655\n",
      "Epoch 19/30\n",
      "1191/1191 [==============================] - 14s 12ms/step - loss: 1.1079 - acc: 0.5473 - val_loss: 1.8385 - val_acc: 0.2779\n",
      "Epoch 20/30\n",
      "1191/1191 [==============================] - 11s 9ms/step - loss: 1.0990 - acc: 0.5452 - val_loss: 2.0014 - val_acc: 0.2608\n",
      "Epoch 21/30\n",
      "1191/1191 [==============================] - 11s 9ms/step - loss: 1.0878 - acc: 0.5510 - val_loss: 1.9593 - val_acc: 0.2722\n",
      "Epoch 22/30\n",
      "1191/1191 [==============================] - 12s 10ms/step - loss: 1.0770 - acc: 0.5552 - val_loss: 1.8993 - val_acc: 0.2646\n",
      "Epoch 23/30\n",
      "1191/1191 [==============================] - 11s 10ms/step - loss: 1.0714 - acc: 0.5577 - val_loss: 1.8425 - val_acc: 0.2731\n",
      "Epoch 24/30\n",
      "1191/1191 [==============================] - 13s 11ms/step - loss: 1.0638 - acc: 0.5626 - val_loss: 1.8762 - val_acc: 0.2597\n",
      "Epoch 25/30\n",
      "1191/1191 [==============================] - 16s 14ms/step - loss: 1.0602 - acc: 0.5603 - val_loss: 1.9901 - val_acc: 0.2617\n",
      "Epoch 26/30\n",
      "1191/1191 [==============================] - 11s 9ms/step - loss: 1.0485 - acc: 0.5653 - val_loss: 1.8935 - val_acc: 0.2751\n",
      "Epoch 27/30\n",
      "1191/1191 [==============================] - 11s 9ms/step - loss: 1.0426 - acc: 0.5683 - val_loss: 1.9154 - val_acc: 0.2640\n",
      "Epoch 28/30\n",
      "1191/1191 [==============================] - 11s 9ms/step - loss: 1.0365 - acc: 0.5704 - val_loss: 1.9090 - val_acc: 0.2753\n",
      "Epoch 29/30\n",
      "1191/1191 [==============================] - 11s 10ms/step - loss: 1.0300 - acc: 0.5712 - val_loss: 1.9045 - val_acc: 0.2693\n",
      "Epoch 30/30\n",
      "1191/1191 [==============================] - 14s 11ms/step - loss: 1.0280 - acc: 0.5739 - val_loss: 2.0208 - val_acc: 0.2706\n"
     ]
    }
   ],
   "source": [
    "# Build the Model\n",
    "from tensorflow.keras.models import Sequential\n",
    "from tensorflow.keras.layers import Flatten, Dense\n",
    "from tensorflow.keras.layers import Embedding\n",
    "\n",
    "max_features = 10000\n",
    "baseline_model = Sequential()\n",
    "baseline_model.add(Embedding(max_features, 16, input_length=50))\n",
    "\n",
    "baseline_model.add(SimpleRNN(32, return_sequences=True))\n",
    "\n",
    "baseline_model.add(SimpleRNN(32))\n",
    "\n",
    "\n",
    "baseline_model.add(Dense(5, activation='softmax'))\n",
    "\n",
    "baseline_model.compile(optimizer='rmsprop', loss='categorical_crossentropy', metrics=['acc'])\n",
    "baseline_history = baseline_model.fit(X_train,y_train,\n",
    "                    epochs=30,\n",
    "                    batch_size=18,\n",
    "                    validation_data=(X_val,y_val))"
   ]
  },
  {
   "cell_type": "code",
   "execution_count": 322,
   "metadata": {
    "scrolled": true
   },
   "outputs": [
    {
     "data": {
      "image/png": "[encoded data removed]",
      "text/plain": [
       "<Figure size 432x288 with 1 Axes>"
      ]
     },
     "metadata": {
      "needs_background": "light"
     },
     "output_type": "display_data"
    },
    {
     "data": {
      "image/png": "[encoded data removed]",
      "text/plain": [
       "<Figure size 432x288 with 1 Axes>"
      ]
     },
     "metadata": {
      "needs_background": "light"
     },
     "output_type": "display_data"
    }
   ],
   "source": [
    "chart(baseline_history)"
   ]
  },
  {
   "cell_type": "code",
   "execution_count": null,
   "metadata": {},
   "outputs": [],
   "source": [
    "# Train the Model\n"
   ]
  },
  {
   "cell_type": "code",
   "execution_count": null,
   "metadata": {},
   "outputs": [],
   "source": [
    "# Plot the Training and Validation Accuracy & Loss Scores\n"
   ]
  },
  {
   "cell_type": "code",
   "execution_count": null,
   "metadata": {},
   "outputs": [],
   "source": [
    "# Save the Model\n",
    "model.save('text_model_1.h5')"
   ]
  },
  {
   "cell_type": "markdown",
   "metadata": {},
   "source": [
    "### Model #2  (Student Name: XXXX)"
   ]
  },
  {
   "cell_type": "code",
   "execution_count": null,
   "metadata": {},
   "outputs": [],
   "source": [
    "# Build the Model\n"
   ]
  },
  {
   "cell_type": "code",
   "execution_count": null,
   "metadata": {},
   "outputs": [],
   "source": [
    "# Train the Model\n"
   ]
  },
  {
   "cell_type": "code",
   "execution_count": null,
   "metadata": {},
   "outputs": [],
   "source": [
    "# Plot the Training and Validation Accuracy & Loss Scores\n"
   ]
  },
  {
   "cell_type": "markdown",
   "metadata": {},
   "source": [
    "### Model #3  (Student Name: XXXX)"
   ]
  },
  {
   "cell_type": "code",
   "execution_count": null,
   "metadata": {},
   "outputs": [],
   "source": [
    "# Build the Model\n"
   ]
  },
  {
   "cell_type": "code",
   "execution_count": null,
   "metadata": {},
   "outputs": [],
   "source": [
    "# Train the Model\n"
   ]
  },
  {
   "cell_type": "code",
   "execution_count": null,
   "metadata": {},
   "outputs": [],
   "source": [
    "# Plot the Training and Validation Accuracy & Loss Scores\n"
   ]
  },
  {
   "cell_type": "code",
   "execution_count": null,
   "metadata": {},
   "outputs": [],
   "source": [
    "# Save the Model\n",
    "model.save('text_model_2.h5')"
   ]
  },
  {
   "cell_type": "markdown",
   "metadata": {},
   "source": [
    "### Model #4  (Student Name: XXXX)"
   ]
  },
  {
   "cell_type": "code",
   "execution_count": null,
   "metadata": {},
   "outputs": [],
   "source": [
    "# Build the Model\n"
   ]
  },
  {
   "cell_type": "code",
   "execution_count": null,
   "metadata": {},
   "outputs": [],
   "source": [
    "# Train the Model\n"
   ]
  },
  {
   "cell_type": "code",
   "execution_count": null,
   "metadata": {},
   "outputs": [],
   "source": [
    "# Plot the Training and Validation Accuracy & Loss Scores\n"
   ]
  },
  {
   "cell_type": "code",
   "execution_count": null,
   "metadata": {},
   "outputs": [],
   "source": [
    "# Save the Model\n",
    "model.save('text_model_2.h5')"
   ]
  },
  {
   "cell_type": "markdown",
   "metadata": {},
   "source": [
    "### Model #5  (Student Name: XXXX)"
   ]
  },
  {
   "cell_type": "code",
   "execution_count": null,
   "metadata": {},
   "outputs": [],
   "source": [
    "# Build the Model\n"
   ]
  },
  {
   "cell_type": "code",
   "execution_count": null,
   "metadata": {},
   "outputs": [],
   "source": [
    "# Train the Model\n"
   ]
  },
  {
   "cell_type": "code",
   "execution_count": null,
   "metadata": {},
   "outputs": [],
   "source": [
    "# Plot the Training and Validation Accuracy & Loss Scores\n"
   ]
  },
  {
   "cell_type": "code",
   "execution_count": null,
   "metadata": {},
   "outputs": [],
   "source": [
    "# Save the Model\n",
    "model.save('text_model_2.h5')"
   ]
  },
  {
   "cell_type": "markdown",
   "metadata": {},
   "source": [
    "## Step 3 – Evaluate the Model using Testing Data (Individual & Group)"
   ]
  },
  {
   "cell_type": "code",
   "execution_count": null,
   "metadata": {},
   "outputs": [],
   "source": [
    "# Model #1 (replicate where necessary for other models)\n",
    "model1 = keras.models.load_model('text_model_1.h5')\n"
   ]
  },
  {
   "cell_type": "code",
   "execution_count": null,
   "metadata": {},
   "outputs": [],
   "source": [
    "# Model #2 (replicate where necessary for other models)\n",
    "model2 = keras.models.load_model('text_model_2.h5')\n"
   ]
  },
  {
   "cell_type": "code",
   "execution_count": null,
   "metadata": {},
   "outputs": [],
   "source": [
    "# Model #3 (replicate where necessary for other models)\n",
    "model3 = keras.models.load_model('text_model_3.h5')\n"
   ]
  },
  {
   "cell_type": "code",
   "execution_count": null,
   "metadata": {},
   "outputs": [],
   "source": [
    "# Model #4 (replicate where necessary for other models)\n",
    "model4 = keras.models.load_model('text_model_4.h5')\n"
   ]
  },
  {
   "cell_type": "code",
   "execution_count": null,
   "metadata": {},
   "outputs": [],
   "source": [
    "# Model #5 (replicate where necessary for other models)\n",
    "model5 = keras.models.load_model('text_model_5.h5')\n"
   ]
  },
  {
   "cell_type": "code",
   "execution_count": null,
   "metadata": {},
   "outputs": [],
   "source": [
    "# Save the Best Model\n",
    "model.save('text_model_best.h5')"
   ]
  },
  {
   "cell_type": "markdown",
   "metadata": {},
   "source": [
    "## Step 4 – Use the Best Model to make prediction (Group)"
   ]
  },
  {
   "cell_type": "code",
   "execution_count": null,
   "metadata": {},
   "outputs": [],
   "source": [
    "best_model = keras.models.load_model('text_model_best.h5')"
   ]
  },
  {
   "cell_type": "code",
   "execution_count": null,
   "metadata": {},
   "outputs": [],
   "source": [
    "# takes the user input\n",
    "text_input = np.array([input()])"
   ]
  },
  {
   "cell_type": "code",
   "execution_count": null,
   "metadata": {},
   "outputs": [],
   "source": [
    "# convert the user input into numeric tensor\n"
   ]
  },
  {
   "cell_type": "code",
   "execution_count": null,
   "metadata": {},
   "outputs": [],
   "source": [
    "# show the model output using predict function\n",
    "\n"
   ]
  }
 ],
 "metadata": {
  "kernelspec": {
   "display_name": "Python 3 (ipykernel)",
   "language": "python",
   "name": "python3"
  },
  "language_info": {
   "codemirror_mode": {
    "name": "ipython",
    "version": 3
   },
   "file_extension": ".py",
   "mimetype": "text/x-python",
   "name": "python",
   "nbconvert_exporter": "python",
   "pygments_lexer": "ipython3",
   "version": "3.9.7"
  }
 },
 "nbformat": 4,
 "nbformat_minor": 2
}
