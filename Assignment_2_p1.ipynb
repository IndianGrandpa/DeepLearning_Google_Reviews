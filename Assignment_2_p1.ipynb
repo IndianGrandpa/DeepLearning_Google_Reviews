{
 "cells": [
  {
   "cell_type": "markdown",
   "metadata": {},
   "source": [
    "<table class=\"table table-bordered\">\n",
    "    <tr>\n",
    "        <th style=\"text-align:center; width:25%\"><img src='https://www.np.edu.sg/PublishingImages/Pages/default/odp/ICT.jpg' style=\"width: 250px; height: 125px; \"></th>\n",
    "        <th style=\"text-align:center;\"><h1>Deep Learning</h1><h2>Assignment 2 (Problem 1) - Sentiment Analysis Model  (Group)</h2><h3>AY2022/23 Semester</h3></th>\n",
    "    </tr>\n",
    "</table>"
   ]
  },
  {
   "cell_type": "code",
   "execution_count": 1,
   "metadata": {},
   "outputs": [],
   "source": [
    "# Import the Required Packages\n",
    "from tensorflow.keras.models import Sequential\n",
    "from tensorflow.keras.layers import Embedding, SimpleRNN\n",
    "from tensorflow.keras import preprocessing\n",
    "import numpy as np\n",
    "from keras.utils.data_utils import pad_sequences\n",
    "from keras.preprocessing.text import Tokenizer\n",
    "\n",
    "import pandas as pd\n",
    "import matplotlib.pyplot as plt \n",
    "from googletrans import Translator"
   ]
  },
  {
   "cell_type": "markdown",
   "metadata": {},
   "source": [
    "## Step 1 – Data Loading and Processing (Group)"
   ]
  },
  {
   "cell_type": "markdown",
   "metadata": {},
   "source": [
    "### 1.1 Data Loading"
   ]
  },
  {
   "cell_type": "code",
   "execution_count": 79,
   "metadata": {},
   "outputs": [],
   "source": [
    "reviews=pd.read_csv(\"whatsapp_reviews.csv\")"
   ]
  },
  {
   "cell_type": "code",
   "execution_count": 80,
   "metadata": {},
   "outputs": [
    {
     "data": {
      "text/plain": [
       "reviewId                253200\n",
       "userName                253200\n",
       "userImage               253200\n",
       "content                 253186\n",
       "score                   253200\n",
       "thumbsUpCount           253200\n",
       "reviewCreatedVersion    198097\n",
       "at                      253200\n",
       "replyContent                 0\n",
       "repliedAt                    0\n",
       "dtype: int64"
      ]
     },
     "execution_count": 80,
     "metadata": {},
     "output_type": "execute_result"
    }
   ],
   "source": [
    "reviews.count()"
   ]
  },
  {
   "cell_type": "markdown",
   "metadata": {},
   "source": [
    "### 1.2 Data Processing\n"
   ]
  },
  {
   "cell_type": "markdown",
   "metadata": {},
   "source": [
    "Data pre-processing is multi-step process that aims to prepare the data so that it could be fit into a model. For RNN deep learning models there are few specification on how the data should be molded into. First off the input data, the text , need to be need to be at least a 2d array. The process of converting text and converting them into 2-d array is called tokenization.Tokenization involves splitting sentences into individual word and assigning a  unique number for each unique word. The next step in called padding, which aims to even out the length of sentences by either truncating them or padding them. There are also other steps such as embedding and punctuation removals which can help to improve model performance."
   ]
  },
  {
   "cell_type": "code",
   "execution_count": 81,
   "metadata": {},
   "outputs": [],
   "source": [
    "reviews=reviews[reviews[\"content\"].str.len()>20]"
   ]
  },
  {
   "cell_type": "code",
   "execution_count": 82,
   "metadata": {},
   "outputs": [
    {
     "data": {
      "text/plain": [
       "reviewId                76554\n",
       "userName                76554\n",
       "userImage               76554\n",
       "content                 76554\n",
       "score                   76554\n",
       "thumbsUpCount           76554\n",
       "reviewCreatedVersion    63517\n",
       "at                      76554\n",
       "replyContent                0\n",
       "repliedAt                   0\n",
       "dtype: int64"
      ]
     },
     "execution_count": 82,
     "metadata": {},
     "output_type": "execute_result"
    }
   ],
   "source": [
    "reviews.count()"
   ]
  },
  {
   "cell_type": "code",
   "execution_count": 83,
   "metadata": {},
   "outputs": [],
   "source": [
    "def satrification(df,column):\n",
    "    value_count=df[column].value_counts().sort_values()\n",
    "    \n",
    "    value=value_count.values[0]\n",
    "    \n",
    "    df_satrified= df[df[column]==value_count.index[0]]\n",
    "   \n",
    "    \n",
    "    for i in value_count.index[1:]:\n",
    "        df_sampled = df[df[column]==i].sample(n=value, random_state=2).copy()\n",
    "        \n",
    "        df_satrified=pd.concat([df_satrified,df_sampled],axis=0)\n",
    "    \n",
    "    return df_satrified"
   ]
  },
  {
   "cell_type": "code",
   "execution_count": 84,
   "metadata": {},
   "outputs": [],
   "source": [
    "import re\n",
    "\n",
    "\n",
    "\n",
    "\n",
    "\n",
    "def pre_process(text,remove_punc=True):\n",
    "    text=str(text)\n",
    "    text=text.lower()\n",
    "    if remove_punc==True:\n",
    "        text=re.sub(\"</?.*?>\",\" <> \",text)\n",
    "    \n",
    "    text=re.sub(\"(\\\\d|\\\\W|_)+\",\" \",text)\n",
    "    \n",
    "\n",
    "\n",
    "\n",
    "    \n",
    "    return text\n",
    "reviews_satr=satrification(reviews,\"score\")\n",
    "reviews_satr[\"transform_content\"]=reviews_satr[\"content\"].apply(lambda x:pre_process(x))"
   ]
  },
  {
   "cell_type": "code",
   "execution_count": null,
   "metadata": {},
   "outputs": [],
   "source": []
  },
  {
   "cell_type": "code",
   "execution_count": 95,
   "metadata": {},
   "outputs": [
    {
     "ename": "AttributeError",
     "evalue": "'Series' object has no attribute 'values_count'",
     "output_type": "error",
     "traceback": [
      "\u001b[1;31m---------------------------------------------------------------------------\u001b[0m",
      "\u001b[1;31mAttributeError\u001b[0m                            Traceback (most recent call last)",
      "Input \u001b[1;32mIn [95]\u001b[0m, in \u001b[0;36m<module>\u001b[1;34m\u001b[0m\n\u001b[1;32m----> 1\u001b[0m \u001b[43mreviews_satr\u001b[49m\u001b[43m[\u001b[49m\u001b[38;5;124;43m\"\u001b[39;49m\u001b[38;5;124;43mscore\u001b[39;49m\u001b[38;5;124;43m\"\u001b[39;49m\u001b[43m]\u001b[49m\u001b[38;5;241;43m.\u001b[39;49m\u001b[43mvalues_count\u001b[49m()\n",
      "File \u001b[1;32m~\\AppData\\Local\\Programs\\Python\\Python39\\lib\\site-packages\\pandas\\core\\generic.py:5487\u001b[0m, in \u001b[0;36mNDFrame.__getattr__\u001b[1;34m(self, name)\u001b[0m\n\u001b[0;32m   5480\u001b[0m \u001b[38;5;28;01mif\u001b[39;00m (\n\u001b[0;32m   5481\u001b[0m     name \u001b[38;5;129;01mnot\u001b[39;00m \u001b[38;5;129;01min\u001b[39;00m \u001b[38;5;28mself\u001b[39m\u001b[38;5;241m.\u001b[39m_internal_names_set\n\u001b[0;32m   5482\u001b[0m     \u001b[38;5;129;01mand\u001b[39;00m name \u001b[38;5;129;01mnot\u001b[39;00m \u001b[38;5;129;01min\u001b[39;00m \u001b[38;5;28mself\u001b[39m\u001b[38;5;241m.\u001b[39m_metadata\n\u001b[0;32m   5483\u001b[0m     \u001b[38;5;129;01mand\u001b[39;00m name \u001b[38;5;129;01mnot\u001b[39;00m \u001b[38;5;129;01min\u001b[39;00m \u001b[38;5;28mself\u001b[39m\u001b[38;5;241m.\u001b[39m_accessors\n\u001b[0;32m   5484\u001b[0m     \u001b[38;5;129;01mand\u001b[39;00m \u001b[38;5;28mself\u001b[39m\u001b[38;5;241m.\u001b[39m_info_axis\u001b[38;5;241m.\u001b[39m_can_hold_identifiers_and_holds_name(name)\n\u001b[0;32m   5485\u001b[0m ):\n\u001b[0;32m   5486\u001b[0m     \u001b[38;5;28;01mreturn\u001b[39;00m \u001b[38;5;28mself\u001b[39m[name]\n\u001b[1;32m-> 5487\u001b[0m \u001b[38;5;28;01mreturn\u001b[39;00m \u001b[38;5;28;43mobject\u001b[39;49m\u001b[38;5;241;43m.\u001b[39;49m\u001b[38;5;21;43m__getattribute__\u001b[39;49m\u001b[43m(\u001b[49m\u001b[38;5;28;43mself\u001b[39;49m\u001b[43m,\u001b[49m\u001b[43m \u001b[49m\u001b[43mname\u001b[49m\u001b[43m)\u001b[49m\n",
      "\u001b[1;31mAttributeError\u001b[0m: 'Series' object has no attribute 'values_count'"
     ]
    }
   ],
   "source": [
    "reviews_satr[\"score\"].values_count()\n"
   ]
  },
  {
   "cell_type": "code",
   "execution_count": 86,
   "metadata": {},
   "outputs": [],
   "source": [
    "#max length words and max lenth need to be consistent\n",
    "def transform_for_rnn(max_words,max_len,padding_style):    \n",
    "   \n",
    "    #max length need to consistent with embedders also\n",
    "    tokenizer = Tokenizer(num_words=max_words) # num_words: the maximum number of words to keep, based on word frequency.\n",
    "    tokenizer.fit_on_texts(reviews_satr[\"transform_content\"])\n",
    "    sequences = tokenizer.texts_to_sequences(reviews_satr[\"transform_content\"])\n",
    "\n",
    "    reviews_padded = pad_sequences(sequences, maxlen=max_len, padding=padding_style)\n",
    "    return (reviews_padded,np.array(reviews_satr[\"score\"]))\n",
    "            \n",
    "x,y=transform_for_rnn(10000,50,\"post\")"
   ]
  },
  {
   "cell_type": "markdown",
   "metadata": {},
   "source": [
    "For the y data there is a need to one hot the data so that it could used for multi label classification model. One hot is the process of creating n number of binary column for n number of categories  and representing the categories with a series of 0s and 1s.For example if there is an array of [1,2] with the assumption there are five different categories , one hot would convert it to [[1,0,0,0,0][0,1,0,0,0]]"
   ]
  },
  {
   "cell_type": "code",
   "execution_count": 87,
   "metadata": {
    "scrolled": true
   },
   "outputs": [],
   "source": [
    "from sklearn.preprocessing import OneHotEncoder\n",
    "import numpy as np\n",
    "\n",
    "# Array to be transformed\n",
    "array = y\n",
    "\n",
    "# Initialize the OneHotEncoder\n",
    "encoder = OneHotEncoder()\n",
    "\n",
    "# Fit and transform the array\n",
    "one_hot = encoder.fit_transform(array.reshape(-1, 1))\n",
    "\n",
    "y = one_hot.toarray()"
   ]
  },
  {
   "cell_type": "markdown",
   "metadata": {},
   "source": [
    "### 1.3 Data Sampling"
   ]
  },
  {
   "cell_type": "markdown",
   "metadata": {},
   "source": [
    "The data was split into the training, validation and testing data by the  ratio of 6:3:1. The ratio was chosen as to provide the largest number of training data, which is important for the model, while making sure there is sufficient data for testing and validation. Validation data contribute to the training phase much more than testing hence validation was given the bigger share of the data."
   ]
  },
  {
   "cell_type": "code",
   "execution_count": 88,
   "metadata": {},
   "outputs": [],
   "source": [
    "# Split the X & y into train and test sets\n",
    "from sklearn.model_selection import train_test_split\n",
    "X_train_val, X_test, y_train_val, y_test = train_test_split(x, y, test_size=0.1,stratify=y,random_state=42)\n",
    "X_train, X_val,y_train, y_val = train_test_split(X_train_val,y_train_val, test_size=1/3,random_state=42)"
   ]
  },
  {
   "cell_type": "code",
   "execution_count": 89,
   "metadata": {
    "scrolled": true
   },
   "outputs": [
    {
     "data": {
      "text/plain": [
       "(28215, 50)"
      ]
     },
     "execution_count": 89,
     "metadata": {},
     "output_type": "execute_result"
    }
   ],
   "source": [
    "x.shape"
   ]
  },
  {
   "cell_type": "code",
   "execution_count": 90,
   "metadata": {},
   "outputs": [
    {
     "data": {
      "text/plain": [
       "35744"
      ]
     },
     "execution_count": 90,
     "metadata": {},
     "output_type": "execute_result"
    }
   ],
   "source": [
    "1117*32"
   ]
  },
  {
   "cell_type": "markdown",
   "metadata": {},
   "source": [
    "## Step 2 – Develop a Sentiment Analysis Model (Individual: One Model Per Student)"
   ]
  },
  {
   "cell_type": "code",
   "execution_count": 91,
   "metadata": {},
   "outputs": [],
   "source": [
    "def chart(history):\n",
    " \n",
    "  acc = history.history['acc']\n",
    "  val_acc = history.history['val_acc']\n",
    "  loss = history.history['loss']\n",
    "  val_loss = history.history['val_loss']\n",
    "\n",
    "\n",
    "  epochs = range(len(acc))\n",
    "\n",
    "  plt.plot(epochs, acc, 'bo', label='Training acc')\n",
    "  plt.plot(epochs, val_acc, 'b', label='Validation acc')\n",
    "  plt.title('Training and validation accuracy')\n",
    "  plt.legend()\n",
    "\n",
    "  plt.figure()\n",
    "\n",
    "  plt.plot(epochs, loss, 'bo', label='Training loss')\n",
    "  plt.plot(epochs, val_loss, 'b', label='Validation loss')\n",
    "  plt.title('Training and validation loss')\n",
    "\n",
    "  plt.legend()\n",
    "\n",
    "  plt.show()"
   ]
  },
  {
   "cell_type": "markdown",
   "metadata": {},
   "source": [
    "### Model #1  (Student Name: Vibu Vignesh)"
   ]
  },
  {
   "cell_type": "markdown",
   "metadata": {},
   "source": [
    "## Baseline Model"
   ]
  },
  {
   "cell_type": "code",
   "execution_count": 92,
   "metadata": {},
   "outputs": [
    {
     "name": "stdout",
     "output_type": "stream",
     "text": [
      "Epoch 1/30\n",
      "941/941 [==============================] - 11s 10ms/step - loss: 1.5875 - acc: 0.2497 - val_loss: 1.6512 - val_acc: 0.2240\n",
      "Epoch 2/30\n",
      "941/941 [==============================] - 10s 10ms/step - loss: 1.5273 - acc: 0.3020 - val_loss: 1.5525 - val_acc: 0.2741\n",
      "Epoch 3/30\n",
      "941/941 [==============================] - 10s 10ms/step - loss: 1.4920 - acc: 0.3319 - val_loss: 1.5296 - val_acc: 0.3096\n",
      "Epoch 4/30\n",
      "941/941 [==============================] - 10s 11ms/step - loss: 1.4669 - acc: 0.3569 - val_loss: 1.6288 - val_acc: 0.2341\n",
      "Epoch 5/30\n",
      "941/941 [==============================] - 10s 11ms/step - loss: 1.4234 - acc: 0.3878 - val_loss: 1.5559 - val_acc: 0.3093\n",
      "Epoch 6/30\n",
      "941/941 [==============================] - 10s 11ms/step - loss: 1.3651 - acc: 0.4283 - val_loss: 1.6078 - val_acc: 0.2927\n",
      "Epoch 7/30\n",
      "941/941 [==============================] - 10s 11ms/step - loss: 1.3061 - acc: 0.4667 - val_loss: 1.6262 - val_acc: 0.2998\n",
      "Epoch 8/30\n",
      "941/941 [==============================] - 10s 11ms/step - loss: 1.2436 - acc: 0.5018 - val_loss: 1.7243 - val_acc: 0.2979\n",
      "Epoch 9/30\n",
      "941/941 [==============================] - 10s 11ms/step - loss: 1.1891 - acc: 0.5321 - val_loss: 1.7708 - val_acc: 0.2969\n",
      "Epoch 10/30\n",
      "941/941 [==============================] - 10s 11ms/step - loss: 1.1394 - acc: 0.5565 - val_loss: 1.8394 - val_acc: 0.2803\n",
      "Epoch 11/30\n",
      "941/941 [==============================] - 10s 11ms/step - loss: 1.0911 - acc: 0.5837 - val_loss: 1.7992 - val_acc: 0.2566\n",
      "Epoch 12/30\n",
      "941/941 [==============================] - 10s 11ms/step - loss: 1.0490 - acc: 0.6005 - val_loss: 1.8570 - val_acc: 0.2710\n",
      "Epoch 13/30\n",
      "941/941 [==============================] - 10s 11ms/step - loss: 1.0048 - acc: 0.6223 - val_loss: 1.8951 - val_acc: 0.2815\n",
      "Epoch 14/30\n",
      "941/941 [==============================] - 10s 11ms/step - loss: 0.9700 - acc: 0.6381 - val_loss: 1.9916 - val_acc: 0.2474\n",
      "Epoch 15/30\n",
      "941/941 [==============================] - 10s 11ms/step - loss: 0.9411 - acc: 0.6503 - val_loss: 2.0560 - val_acc: 0.2683\n",
      "Epoch 16/30\n",
      "941/941 [==============================] - 10s 11ms/step - loss: 0.9067 - acc: 0.6614 - val_loss: 2.0063 - val_acc: 0.2682\n",
      "Epoch 17/30\n",
      "941/941 [==============================] - 14s 15ms/step - loss: 0.8835 - acc: 0.6707 - val_loss: 1.9182 - val_acc: 0.2885\n",
      "Epoch 18/30\n",
      "941/941 [==============================] - 12s 12ms/step - loss: 0.8615 - acc: 0.6834 - val_loss: 2.1471 - val_acc: 0.2643\n",
      "Epoch 19/30\n",
      "941/941 [==============================] - 10s 11ms/step - loss: 0.8538 - acc: 0.6905 - val_loss: 2.1628 - val_acc: 0.2724\n",
      "Epoch 20/30\n",
      "941/941 [==============================] - 10s 11ms/step - loss: 0.8196 - acc: 0.7009 - val_loss: 2.3201 - val_acc: 0.2448\n",
      "Epoch 21/30\n",
      "941/941 [==============================] - 10s 11ms/step - loss: 0.7979 - acc: 0.7078 - val_loss: 2.2761 - val_acc: 0.2551\n",
      "Epoch 22/30\n",
      "941/941 [==============================] - 10s 11ms/step - loss: 0.7821 - acc: 0.7144 - val_loss: 2.2641 - val_acc: 0.2753\n",
      "Epoch 23/30\n",
      "941/941 [==============================] - 15s 16ms/step - loss: 0.7706 - acc: 0.7185 - val_loss: 2.3911 - val_acc: 0.2574\n",
      "Epoch 24/30\n",
      "941/941 [==============================] - 14s 15ms/step - loss: 0.7500 - acc: 0.7242 - val_loss: 2.1858 - val_acc: 0.2839\n",
      "Epoch 25/30\n",
      "941/941 [==============================] - 10s 11ms/step - loss: 0.7368 - acc: 0.7334 - val_loss: 2.3948 - val_acc: 0.2567\n",
      "Epoch 26/30\n",
      "941/941 [==============================] - 10s 11ms/step - loss: 0.7234 - acc: 0.7384 - val_loss: 2.1040 - val_acc: 0.2756\n",
      "Epoch 27/30\n",
      "941/941 [==============================] - 10s 11ms/step - loss: 0.7103 - acc: 0.7434 - val_loss: 2.4737 - val_acc: 0.2753\n",
      "Epoch 28/30\n",
      "941/941 [==============================] - 10s 11ms/step - loss: 0.6987 - acc: 0.7471 - val_loss: 2.4664 - val_acc: 0.2549\n",
      "Epoch 29/30\n",
      "941/941 [==============================] - 10s 11ms/step - loss: 0.6888 - acc: 0.7495 - val_loss: 2.0850 - val_acc: 0.2736\n",
      "Epoch 30/30\n",
      "941/941 [==============================] - 15s 16ms/step - loss: 0.6813 - acc: 0.7543 - val_loss: 2.1154 - val_acc: 0.2852\n"
     ]
    }
   ],
   "source": [
    "# Build the Model\n",
    "from tensorflow.keras.models import Sequential\n",
    "from tensorflow.keras.layers import Flatten, Dense\n",
    "from tensorflow.keras.layers import Embedding\n",
    "\n",
    "max_features = 10000\n",
    "baseline_model = Sequential()\n",
    "baseline_model.add(Embedding(max_features, 16, input_length=50))\n",
    "\n",
    "baseline_model.add(SimpleRNN(32, return_sequences=True))\n",
    "\n",
    "baseline_model.add(SimpleRNN(32))\n",
    "\n",
    "\n",
    "baseline_model.add(Dense(5, activation='softmax'))\n",
    "\n",
    "baseline_model.compile(optimizer='rmsprop', loss='categorical_crossentropy', metrics=['acc'])\n",
    "baseline_history = baseline_model.fit(X_train,y_train,\n",
    "                    epochs=30,\n",
    "                    batch_size=18,\n",
    "                    validation_data=(X_val,y_val))"
   ]
  },
  {
   "cell_type": "code",
   "execution_count": 93,
   "metadata": {},
   "outputs": [
    {
     "data": {
      "image/png": "[encoded data removed]",
      "text/plain": [
       "<Figure size 432x288 with 1 Axes>"
      ]
     },
     "metadata": {
      "needs_background": "light"
     },
     "output_type": "display_data"
    },
    {
     "data": {
      "image/png": "[encoded data removed]",
      "text/plain": [
       "<Figure size 432x288 with 1 Axes>"
      ]
     },
     "metadata": {
      "needs_background": "light"
     },
     "output_type": "display_data"
    }
   ],
   "source": [
    "chart(baseline_history)"
   ]
  },
  {
   "cell_type": "code",
   "execution_count": null,
   "metadata": {},
   "outputs": [],
   "source": []
  },
  {
   "cell_type": "code",
   "execution_count": null,
   "metadata": {},
   "outputs": [],
   "source": []
  },
  {
   "cell_type": "code",
   "execution_count": null,
   "metadata": {},
   "outputs": [],
   "source": [
    "# Train the Model\n"
   ]
  },
  {
   "cell_type": "code",
   "execution_count": null,
   "metadata": {},
   "outputs": [],
   "source": [
    "# Plot the Training and Validation Accuracy & Loss Scores\n"
   ]
  },
  {
   "cell_type": "code",
   "execution_count": null,
   "metadata": {},
   "outputs": [],
   "source": [
    "# Save the Model\n",
    "model.save('text_model_1.h5')"
   ]
  },
  {
   "cell_type": "markdown",
   "metadata": {},
   "source": [
    "### Model #2  (Student Name: XXXX)"
   ]
  },
  {
   "cell_type": "code",
   "execution_count": null,
   "metadata": {},
   "outputs": [],
   "source": [
    "# Build the Model\n"
   ]
  },
  {
   "cell_type": "code",
   "execution_count": null,
   "metadata": {},
   "outputs": [],
   "source": [
    "# Train the Model\n"
   ]
  },
  {
   "cell_type": "code",
   "execution_count": null,
   "metadata": {},
   "outputs": [],
   "source": [
    "# Plot the Training and Validation Accuracy & Loss Scores\n"
   ]
  },
  {
   "cell_type": "markdown",
   "metadata": {},
   "source": [
    "### Model #3  (Student Name: XXXX)"
   ]
  },
  {
   "cell_type": "code",
   "execution_count": null,
   "metadata": {},
   "outputs": [],
   "source": [
    "# Build the Model\n"
   ]
  },
  {
   "cell_type": "code",
   "execution_count": null,
   "metadata": {},
   "outputs": [],
   "source": [
    "# Train the Model\n"
   ]
  },
  {
   "cell_type": "code",
   "execution_count": null,
   "metadata": {},
   "outputs": [],
   "source": [
    "# Plot the Training and Validation Accuracy & Loss Scores\n"
   ]
  },
  {
   "cell_type": "code",
   "execution_count": null,
   "metadata": {},
   "outputs": [],
   "source": [
    "# Save the Model\n",
    "model.save('text_model_2.h5')"
   ]
  },
  {
   "cell_type": "markdown",
   "metadata": {},
   "source": [
    "### Model #4  (Student Name: XXXX)"
   ]
  },
  {
   "cell_type": "code",
   "execution_count": null,
   "metadata": {},
   "outputs": [],
   "source": [
    "# Build the Model\n"
   ]
  },
  {
   "cell_type": "code",
   "execution_count": null,
   "metadata": {},
   "outputs": [],
   "source": [
    "# Train the Model\n"
   ]
  },
  {
   "cell_type": "code",
   "execution_count": null,
   "metadata": {},
   "outputs": [],
   "source": [
    "# Plot the Training and Validation Accuracy & Loss Scores\n"
   ]
  },
  {
   "cell_type": "code",
   "execution_count": null,
   "metadata": {},
   "outputs": [],
   "source": [
    "# Save the Model\n",
    "model.save('text_model_2.h5')"
   ]
  },
  {
   "cell_type": "markdown",
   "metadata": {},
   "source": [
    "### Model #5  (Student Name: XXXX)"
   ]
  },
  {
   "cell_type": "code",
   "execution_count": null,
   "metadata": {},
   "outputs": [],
   "source": [
    "# Build the Model\n"
   ]
  },
  {
   "cell_type": "code",
   "execution_count": null,
   "metadata": {},
   "outputs": [],
   "source": [
    "# Train the Model\n"
   ]
  },
  {
   "cell_type": "code",
   "execution_count": null,
   "metadata": {},
   "outputs": [],
   "source": [
    "# Plot the Training and Validation Accuracy & Loss Scores\n"
   ]
  },
  {
   "cell_type": "code",
   "execution_count": null,
   "metadata": {},
   "outputs": [],
   "source": [
    "# Save the Model\n",
    "model.save('text_model_2.h5')"
   ]
  },
  {
   "cell_type": "markdown",
   "metadata": {},
   "source": [
    "## Step 3 – Evaluate the Model using Testing Data (Individual & Group)"
   ]
  },
  {
   "cell_type": "code",
   "execution_count": null,
   "metadata": {},
   "outputs": [],
   "source": [
    "# Model #1 (replicate where necessary for other models)\n",
    "model1 = keras.models.load_model('text_model_1.h5')\n"
   ]
  },
  {
   "cell_type": "code",
   "execution_count": null,
   "metadata": {},
   "outputs": [],
   "source": [
    "# Model #2 (replicate where necessary for other models)\n",
    "model2 = keras.models.load_model('text_model_2.h5')\n"
   ]
  },
  {
   "cell_type": "code",
   "execution_count": null,
   "metadata": {},
   "outputs": [],
   "source": [
    "# Model #3 (replicate where necessary for other models)\n",
    "model3 = keras.models.load_model('text_model_3.h5')\n"
   ]
  },
  {
   "cell_type": "code",
   "execution_count": null,
   "metadata": {},
   "outputs": [],
   "source": [
    "# Model #4 (replicate where necessary for other models)\n",
    "model4 = keras.models.load_model('text_model_4.h5')\n"
   ]
  },
  {
   "cell_type": "code",
   "execution_count": null,
   "metadata": {},
   "outputs": [],
   "source": [
    "# Model #5 (replicate where necessary for other models)\n",
    "model5 = keras.models.load_model('text_model_5.h5')\n"
   ]
  },
  {
   "cell_type": "code",
   "execution_count": null,
   "metadata": {},
   "outputs": [],
   "source": [
    "# Save the Best Model\n",
    "model.save('text_model_best.h5')"
   ]
  },
  {
   "cell_type": "markdown",
   "metadata": {},
   "source": [
    "## Step 4 – Use the Best Model to make prediction (Group)"
   ]
  },
  {
   "cell_type": "code",
   "execution_count": null,
   "metadata": {},
   "outputs": [],
   "source": [
    "best_model = keras.models.load_model('text_model_best.h5')"
   ]
  },
  {
   "cell_type": "code",
   "execution_count": null,
   "metadata": {},
   "outputs": [],
   "source": [
    "# takes the user input\n",
    "text_input = np.array([input()])"
   ]
  },
  {
   "cell_type": "code",
   "execution_count": null,
   "metadata": {},
   "outputs": [],
   "source": [
    "# convert the user input into numeric tensor\n"
   ]
  },
  {
   "cell_type": "code",
   "execution_count": null,
   "metadata": {},
   "outputs": [],
   "source": [
    "# show the model output using predict function\n",
    "\n"
   ]
  }
 ],
 "metadata": {
  "kernelspec": {
   "display_name": "Python 3 (ipykernel)",
   "language": "python",
   "name": "python3"
  },
  "language_info": {
   "codemirror_mode": {
    "name": "ipython",
    "version": 3
   },
   "file_extension": ".py",
   "mimetype": "text/x-python",
   "name": "python",
   "nbconvert_exporter": "python",
   "pygments_lexer": "ipython3",
   "version": "3.9.8"
  }
 },
 "nbformat": 4,
 "nbformat_minor": 2
}
